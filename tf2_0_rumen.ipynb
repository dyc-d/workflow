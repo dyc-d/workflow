{
  "nbformat": 4,
  "nbformat_minor": 0,
  "metadata": {
    "colab": {
      "provenance": [],
      "gpuType": "T4",
      "authorship_tag": "ABX9TyP/oN6C98ACyxWVM7qe/Li6",
      "include_colab_link": true
    },
    "kernelspec": {
      "name": "python3",
      "display_name": "Python 3"
    },
    "language_info": {
      "name": "python"
    },
    "accelerator": "GPU"
  },
  "cells": [
    {
      "cell_type": "markdown",
      "metadata": {
        "id": "view-in-github",
        "colab_type": "text"
      },
      "source": [
        "<a href=\"https://colab.research.google.com/github/dyc-d/workflow/blob/master/tf2_0_rumen.ipynb\" target=\"_parent\"><img src=\"https://colab.research.google.com/assets/colab-badge.svg\" alt=\"Open In Colab\"/></a>"
      ]
    },
    {
      "cell_type": "code",
      "execution_count": null,
      "metadata": {
        "id": "aYftgM_AUKlu",
        "colab": {
          "base_uri": "https://localhost:8080/"
        },
        "outputId": "d5490949-a096-4a87-ca71-1e254000702b"
      },
      "outputs": [
        {
          "output_type": "stream",
          "name": "stderr",
          "text": [
            "WARNING:tensorflow:From /usr/local/lib/python3.10/dist-packages/tensorflow/python/compat/v2_compat.py:107: disable_resource_variables (from tensorflow.python.ops.variable_scope) is deprecated and will be removed in a future version.\n",
            "Instructions for updating:\n",
            "non-resource variables are not supported in the long term\n"
          ]
        }
      ],
      "source": [
        "# import tensorflow as tf\n",
        "import numpy as np\n",
        "import tensorflow.compat.v1 as tf\n",
        "tf.disable_v2_behavior()"
      ]
    },
    {
      "cell_type": "code",
      "source": [
        "x_data = np.random.rand(100).astype(np.float32)\n",
        "y_data = x_data*0.1 + 0.3\n",
        "\n",
        "# 一维结构， 范围-1~1\n",
        "Weights = tf.Variable(tf.random.uniform([1],-1.0,1.0))\n",
        "biases = tf.Variable(tf.zeros([1]))\n",
        "\n",
        "y = Weights*x_data + biases\n",
        "\n",
        "loss = tf.reduce_mean(tf.square(y-y_data))\n",
        "optimizer = tf.train.GradientDescentOptimizer(0.1)\n",
        "train = optimizer.minimize(loss)\n",
        "\n",
        "init = tf.initialize_all_variables()  #tensrflow 执行这句后 变量才会更新\n",
        "\n",
        "# 定义一个任务\n",
        "sess = tf.Session()\n",
        "sess.run(init)    # run（init） 才会更新所有变量\n",
        "\n",
        "for step in range(2001):\n",
        "  sess.run(train)\n",
        "  if step%20 == 0:\n",
        "    print(step, sess.run(Weights), sess.run(biases))\n",
        "sess.close()\n"
      ],
      "metadata": {
        "id": "pOwy_D-zUWus"
      },
      "execution_count": null,
      "outputs": []
    },
    {
      "cell_type": "code",
      "source": [
        "# 激励函数 将函数进行非线性换\n",
        "import matplotlib.pyplot as plt\n",
        "def add_layer(inputs,in_size,out_size,activation_function=None):\n",
        "  with tf.name_scope('layer'):\n",
        "    with tf.name_scope('Weights'):\n",
        "      Weights = tf.Variable(tf.random_normal([in_size,out_size]))  #正态分布\n",
        "    with tf.name_scope('biases'):\n",
        "      biases = tf.Variable(tf.zeros([1,out_size])+0.1)   # 1行out_size列\n",
        "    Wx_plus_b = tf.matmul(inputs,Weights) + biases\n",
        "    if activation_function is None:\n",
        "      outputs = Wx_plus_b\n",
        "    else:\n",
        "      outputs = activation_function(Wx_plus_b)\n",
        "    return outputs\n",
        "\n",
        "x_data = np.linspace(-1,1,300)[:,np.newaxis]\n",
        "noise = np.random.normal(0,0.05,x_data.shape)\n",
        "y_data = np.square(x_data) - 0.5 + noise\n",
        "\n",
        "with tf.name_scope('inputs'):\n",
        "  xs = tf.placeholder(tf.float32,[None,1],name='x_input')\n",
        "  ys = tf.placeholder(tf.float32,[None,1],name='y_input')\n",
        "l1 = add_layer(xs,1,10,activation_function=tf.nn.relu)\n",
        "prediction = add_layer(l1,10,1,activation_function=None)\n",
        "\n",
        "with tf.name_scope('loss'):\n",
        "# 其中，reduction_indices=[1] 参数指定了沿着第一个维度（即行）进行求和。square表示平方\n",
        "  loss = tf.reduce_mean(tf.reduce_sum(tf.square(ys-prediction),reduction_indices=[1]))\n",
        "with tf.name_scope('train'):\n",
        "  train_step = tf.train.GradientDescentOptimizer(0.1).minimize(loss)\n",
        "\n",
        "init = tf.initialize_all_variables()\n",
        "sess = tf.Session()\n",
        "writer = tf.summary.FileWriter(\"logs/\",sess.graph)\n",
        "sess.run(init)\n",
        "\n",
        "fig = plt.figure()\n",
        "ax = fig.add_subplot(1,1,1)\n",
        "ax.scatter(x_data,y_data)\n",
        "plt.ion()\n",
        "plt.show()\n",
        "for i in range(10000):\n",
        "  sess.run(train_step,feed_dict={xs:x_data,ys:y_data})\n",
        "  if i%500 == 0:\n",
        "    #print(i,sess.run(loss, feed_dict={xs:x_data,ys:y_data}))\n",
        "    try:\n",
        "      ax.lines.remove(lines[0])\n",
        "    except Exception:\n",
        "      pass\n",
        "    prediction_value = sess.run(prediction,feed_dict={xs:x_data})\n",
        "    lines = ax.plot(x_data,prediction_value,'r',lw=5)\n",
        "    plt.show()\n",
        "    plt.pause(0.1)\n",
        "\n"
      ],
      "metadata": {
        "colab": {
          "base_uri": "https://localhost:8080/",
          "height": 504
        },
        "id": "NkI0hM7tbwSA",
        "outputId": "4a8efe0d-e09e-4115-92d9-e55616736bfe"
      },
      "execution_count": null,
      "outputs": [
        {
          "output_type": "stream",
          "name": "stderr",
          "text": [
            "WARNING:tensorflow:From /usr/local/lib/python3.10/dist-packages/tensorflow/python/util/tf_should_use.py:243: initialize_all_variables (from tensorflow.python.ops.variables) is deprecated and will be removed after 2017-03-02.\n",
            "Instructions for updating:\n",
            "Use `tf.global_variables_initializer` instead.\n"
          ]
        },
        {
          "output_type": "display_data",
          "data": {
            "text/plain": [
              "<Figure size 640x480 with 1 Axes>"
            ],
            "image/png": "[encoded data removed]"
          },
          "metadata": {}
        }
      ]
    },
    {
      "cell_type": "code",
      "source": [
        "## 过拟合问题：加大数据集、正规化（惩罚变化过大的W）、Dropout（手动deactivate一些神经元）"
      ],
      "metadata": {
        "id": "Rl53H2Z0nGt3"
      },
      "execution_count": null,
      "outputs": []
    },
    {
      "cell_type": "code",
      "source": [
        "!pip install google_colab_shell\n",
        "from google_colab_shell import getshell\n"
      ],
      "metadata": {
        "colab": {
          "base_uri": "https://localhost:8080/"
        },
        "id": "R-xzA3O2dWvK",
        "outputId": "d721b42b-180a-493a-a427-0202b852ebb8"
      },
      "execution_count": null,
      "outputs": [
        {
          "output_type": "stream",
          "name": "stdout",
          "text": [
            "Looking in indexes: https://pypi.org/simple, https://us-python.pkg.dev/colab-wheels/public/simple/\n",
            "Collecting google_colab_shell\n",
            "  Downloading google-colab-shell-0.2.tar.gz (4.2 kB)\n",
            "  Preparing metadata (setup.py) ... \u001b[?25l\u001b[?25hdone\n",
            "Building wheels for collected packages: google_colab_shell\n",
            "  Building wheel for google_colab_shell (setup.py) ... \u001b[?25l\u001b[?25hdone\n",
            "  Created wheel for google_colab_shell: filename=google_colab_shell-0.2-py3-none-any.whl size=4108 sha256=d105636892f9f2856bd5f5144a7458af3684047553102eabf95dbabab749372d\n",
            "  Stored in directory: /root/.cache/pip/wheels/f9/36/65/95dd4599be065418a9fe1f482674c8e716ce540f3f484681d2\n",
            "Successfully built google_colab_shell\n",
            "Installing collected packages: google_colab_shell\n",
            "Successfully installed google_colab_shell-0.2\n"
          ]
        }
      ]
    },
    {
      "cell_type": "code",
      "source": [
        "getshell()"
      ],
      "metadata": {
        "id": "eAOAGxauihfh"
      },
      "execution_count": null,
      "outputs": []
    },
    {
      "cell_type": "code",
      "source": [
        "import tensorflow as tf\n",
        "boston_housing = tf.keras.datasets.boston_housing\n",
        "\n",
        "(train_x, train_y), (test_x,test_y) = boston_housing.load_data()\n",
        "test_x.shape"
      ],
      "metadata": {
        "id": "EO3gIFASBN3r"
      },
      "execution_count": 12,
      "outputs": []
    },
    {
      "cell_type": "code",
      "source": [
        "import matplotlib.pyplot as plt\n",
        "import numpy as np"
      ],
      "metadata": {
        "id": "rlZoaMwVC5Tv"
      },
      "execution_count": 11,
      "outputs": []
    },
    {
      "cell_type": "code",
      "source": [
        "plt.figure(figsize=(5,5))\n",
        "plt.scatter(train_x[:,5],train_y)\n",
        "plt.title(\"5. RM-Price\")\n",
        "plt.show()\n"
      ],
      "metadata": {
        "colab": {
          "base_uri": "https://localhost:8080/",
          "height": 468
        },
        "id": "2dWA69axCDNP",
        "outputId": "b2b6b3b9-67ff-4b7b-fe91-9c39e65da6f9"
      },
      "execution_count": 13,
      "outputs": [
        {
          "output_type": "display_data",
          "data": {
            "text/plain": [
              "<Figure size 500x500 with 1 Axes>"
            ],
            "image/png": "[encoded data removed]"
          },
          "metadata": {}
        }
      ]
    },
    {
      "cell_type": "code",
      "source": [
        "############################################\n",
        "# tensorflow2.0  学习之路\n",
        "import tensorflow as tf\n",
        "print(tf.__version__)\n",
        "print(tf.executing_eagerly())"
      ],
      "metadata": {
        "colab": {
          "base_uri": "https://localhost:8080/"
        },
        "id": "E12mJDO_Ek9K",
        "outputId": "5bea8c86-0841-4319-e6b5-90e7a7b5dd6b"
      },
      "execution_count": 18,
      "outputs": [
        {
          "output_type": "stream",
          "name": "stdout",
          "text": [
            "2.12.0\n",
            "True\n"
          ]
        }
      ]
    },
    {
      "cell_type": "code",
      "source": [
        "# list np pands 张量\n",
        "#list 可以存放不同数据类型，内存不连续存放，动态数组、不适合数值计算\n",
        "#np(ndarray) 数据类型相同 存放位置连续  但不能够主动检测利用GPU\n",
        "#张量 支持CPU、GPU、TPU单机多卡等环境\n",
        "\n",
        "a = tf.constant([[1,2],[3,4]],dtype=tf.float32)\n",
        "print(a)\n",
        "\n",
        "na=np.arange(12).reshape(3,4)\n",
        "ta=tf.convert_to_tensor(na)\n",
        "print(ta)\n",
        "\n",
        "b=tf.constant(9,shape=(2,3))\n",
        "print(b)\n",
        "\n",
        "\n",
        "c=tf.random.truncated_normal([3,3])\n",
        "d=tf.random.normal([3,3])\n",
        "e=tf.random.uniform([3,3])\n",
        "print(e)\n",
        "f=tf.random.shuffle(e)\n",
        "print(f)\n",
        "g=tf.range(0,11,2)\n",
        "print(g)\n",
        "\n",
        "\n",
        "h=tf.reshape(g,[2,-1])\n",
        "print(h)"
      ],
      "metadata": {
        "colab": {
          "base_uri": "https://localhost:8080/"
        },
        "id": "SoSqTPnWIM6t",
        "outputId": "a61b435d-7dc2-4ca2-86d5-6f05cf9a78ce"
      },
      "execution_count": 36,
      "outputs": [
        {
          "output_type": "stream",
          "name": "stdout",
          "text": [
            "tf.Tensor(\n",
            "[[1. 2.]\n",
            " [3. 4.]], shape=(2, 2), dtype=float32)\n",
            "tf.Tensor(\n",
            "[[ 0  1  2  3]\n",
            " [ 4  5  6  7]\n",
            " [ 8  9 10 11]], shape=(3, 4), dtype=int64)\n",
            "tf.Tensor(\n",
            "[[9 9 9]\n",
            " [9 9 9]], shape=(2, 3), dtype=int32)\n",
            "tf.Tensor(\n",
            "[[0.6957462  0.36463618 0.68432665]\n",
            " [0.5984734  0.42392266 0.6831329 ]\n",
            " [0.12020624 0.18230891 0.8064308 ]], shape=(3, 3), dtype=float32)\n",
            "tf.Tensor(\n",
            "[[0.5984734  0.42392266 0.6831329 ]\n",
            " [0.6957462  0.36463618 0.68432665]\n",
            " [0.12020624 0.18230891 0.8064308 ]], shape=(3, 3), dtype=float32)\n",
            "tf.Tensor([ 0  2  4  6  8 10], shape=(6,), dtype=int32)\n",
            "tf.Tensor(\n",
            "[[ 0  2  4]\n",
            " [ 6  8 10]], shape=(2, 3), dtype=int32)\n"
          ]
        }
      ]
    },
    {
      "cell_type": "code",
      "source": [
        "# 张量维度变换、堆叠、切片、分解、增加删除、分解/分割 选择轴axis[]"
      ],
      "metadata": {
        "id": "Gfw8TnqyNbQH"
      },
      "execution_count": null,
      "outputs": []
    }
  ]
}