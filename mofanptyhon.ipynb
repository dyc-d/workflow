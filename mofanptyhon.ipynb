{
  "nbformat": 4,
  "nbformat_minor": 0,
  "metadata": {
    "colab": {
      "provenance": [],
      "authorship_tag": "ABX9TyPhSxufVCIXamCa3KPvx3yq",
      "include_colab_link": true
    },
    "kernelspec": {
      "name": "python3",
      "display_name": "Python 3"
    },
    "language_info": {
      "name": "python"
    }
  },
  "cells": [
    {
      "cell_type": "markdown",
      "metadata": {
        "id": "view-in-github",
        "colab_type": "text"
      },
      "source": [
        "<a href=\"https://colab.research.google.com/github/dyc-d/workflow/blob/master/mofanptyhon.ipynb\" target=\"_parent\"><img src=\"https://colab.research.google.com/assets/colab-badge.svg\" alt=\"Open In Colab\"/></a>"
      ]
    },
    {
      "cell_type": "code",
      "execution_count": 7,
      "metadata": {
        "id": "aYftgM_AUKlu"
      },
      "outputs": [],
      "source": [
        "# import tensorflow as tf\n",
        "import numpy as np\n",
        "import tensorflow.compat.v1 as tf\n",
        "tf.disable_v2_behavior()"
      ]
    },
    {
      "cell_type": "code",
      "source": [
        "x_data = np.random.rand(100).astype(np.float32)\n",
        "y_data = x_data*0.1 + 0.3\n",
        "\n",
        "# 一维结构， 范围-1~1\n",
        "Weights = tf.Variable(tf.random.uniform([1],-1.0,1.0))\n",
        "biases = tf.Variable(tf.zeros([1]))\n",
        "\n",
        "y = Weights*x_data + biases\n",
        "\n",
        "loss = tf.reduce_mean(tf.square(y-y_data))\n",
        "optimizer = tf.train.GradientDescentOptimizer(0.1)\n",
        "train = optimizer.minimize(loss)\n",
        "\n",
        "init = tf.initialize_all_variables()  #tensrflow 执行这句后 变量才会更新\n",
        "\n",
        "# 定义一个任务\n",
        "sess = tf.Session()\n",
        "sess.run(init)    # run（init） 才会更新所有变量\n",
        "\n",
        "for step in range(2001):\n",
        "  sess.run(train)\n",
        "  if step%20 == 0:\n",
        "    print(step, sess.run(Weights), sess.run(biases))\n",
        "sess.close()\n"
      ],
      "metadata": {
        "id": "pOwy_D-zUWus"
      },
      "execution_count": null,
      "outputs": []
    },
    {
      "cell_type": "code",
      "source": [
        "# 激励函数 将函数进行非线性换\n",
        "import matplotlib.pyplot as plt\n",
        "def add_layer(inputs,in_size,out_size,activation_function=None):\n",
        "  Weights = tf.Variable(tf.random_normal([in_size,out_size]))\n",
        "  biases = tf.Variable(tf.zeros([1,out_size])+0.1)   # 1行out_size列\n",
        "  Wx_plus_b = tf.matmul(inputs,Weights) + biases\n",
        "  if activation_function is None:\n",
        "    outputs = Wx_plus_b\n",
        "  else:\n",
        "    outputs = activation_function(Wx_plus_b)\n",
        "  return outputs\n",
        "\n",
        "x_data = np.linspace(-1,1,300)[:,np.newaxis]\n",
        "noise = np.random.normal(0,0.05,x_data.shape)\n",
        "y_data = np.square(x_data) - 0.5 + noise\n",
        "\n",
        "xs = tf.placeholder(tf.float32,[None,1])\n",
        "ys = tf.placeholder(tf.float32,[None,1])\n",
        "l1 = add_layer(xs,1,10,activation_function=tf.nn.relu)\n",
        "prediction = add_layer(l1,10,1,activation_function=None)\n",
        "\n",
        "# 其中，reduction_indices=[1] 参数指定了沿着第一个维度（即行）进行求和。square表示平方\n",
        "loss = tf.reduce_mean(tf.reduce_sum(tf.square(ys-prediction),reduction_indices=[1]))\n",
        "train_step = tf.train.GradientDescentOptimizer(0.1).minimize(loss)\n",
        "\n",
        "init = tf.initialize_all_variables()\n",
        "sess = tf.Session()\n",
        "sess.run(init)\n",
        "\n",
        "fig = plt.figure()\n",
        "ax = fig.add_subplot(1,1,1)\n",
        "ax.scatter(x_data,y_data)\n",
        "plt.ion()\n",
        "plt.show()\n",
        "for i in range(10000):\n",
        "  sess.run(train_step,feed_dict={xs:x_data,ys:y_data})\n",
        "  if i%500 == 0:\n",
        "    #print(i,sess.run(loss, feed_dict={xs:x_data,ys:y_data}))\n",
        "    try:\n",
        "      ax.lines.remove(lines[0])\n",
        "    except Exception:\n",
        "      pass\n",
        "    prediction_value = sess.run(prediction,feed_dict={xs:x_data})\n",
        "    lines = ax.plot(x_data,prediction_value,'r',lw=5)\n",
        "    plt.pause(0.1)\n",
        "\n"
      ],
      "metadata": {
        "colab": {
          "base_uri": "https://localhost:8080/",
          "height": 545
        },
        "id": "NkI0hM7tbwSA",
        "outputId": "0640064a-1083-4c36-afc2-bda9954399f5"
      },
      "execution_count": 48,
      "outputs": [
        {
          "output_type": "error",
          "ename": "ImportError",
          "evalue": "ignored",
          "traceback": [
            "\u001b[0;31m---------------------------------------------------------------------------\u001b[0m",
            "\u001b[0;31mImportError\u001b[0m                               Traceback (most recent call last)",
            "\u001b[0;32m<ipython-input-48-0102a8da72b6>\u001b[0m in \u001b[0;36m<cell line: 3>\u001b[0;34m()\u001b[0m\n\u001b[1;32m      1\u001b[0m \u001b[0;31m# 激励函数 将函数进行非线性换\u001b[0m\u001b[0;34m\u001b[0m\u001b[0;34m\u001b[0m\u001b[0m\n\u001b[1;32m      2\u001b[0m \u001b[0;32mimport\u001b[0m \u001b[0mmatplotlib\u001b[0m\u001b[0;34m\u001b[0m\u001b[0;34m\u001b[0m\u001b[0m\n\u001b[0;32m----> 3\u001b[0;31m \u001b[0mmatplotlib\u001b[0m\u001b[0;34m.\u001b[0m\u001b[0muse\u001b[0m\u001b[0;34m(\u001b[0m\u001b[0;34m'TkAgg'\u001b[0m\u001b[0;34m)\u001b[0m\u001b[0;34m\u001b[0m\u001b[0;34m\u001b[0m\u001b[0m\n\u001b[0m\u001b[1;32m      4\u001b[0m \u001b[0;32mimport\u001b[0m \u001b[0mmatplotlib\u001b[0m\u001b[0;34m.\u001b[0m\u001b[0mpyplot\u001b[0m \u001b[0;32mas\u001b[0m \u001b[0mplt\u001b[0m\u001b[0;34m\u001b[0m\u001b[0;34m\u001b[0m\u001b[0m\n\u001b[1;32m      5\u001b[0m \u001b[0;32mdef\u001b[0m \u001b[0madd_layer\u001b[0m\u001b[0;34m(\u001b[0m\u001b[0minputs\u001b[0m\u001b[0;34m,\u001b[0m\u001b[0min_size\u001b[0m\u001b[0;34m,\u001b[0m\u001b[0mout_size\u001b[0m\u001b[0;34m,\u001b[0m\u001b[0mactivation_function\u001b[0m\u001b[0;34m=\u001b[0m\u001b[0;32mNone\u001b[0m\u001b[0;34m)\u001b[0m\u001b[0;34m:\u001b[0m\u001b[0;34m\u001b[0m\u001b[0;34m\u001b[0m\u001b[0m\n",
            "\u001b[0;32m/usr/local/lib/python3.10/dist-packages/matplotlib/__init__.py\u001b[0m in \u001b[0;36muse\u001b[0;34m(backend, force)\u001b[0m\n\u001b[1;32m   1231\u001b[0m                 \u001b[0;31m# user does not have the libraries to support their\u001b[0m\u001b[0;34m\u001b[0m\u001b[0;34m\u001b[0m\u001b[0m\n\u001b[1;32m   1232\u001b[0m                 \u001b[0;31m# chosen backend installed.\u001b[0m\u001b[0;34m\u001b[0m\u001b[0;34m\u001b[0m\u001b[0m\n\u001b[0;32m-> 1233\u001b[0;31m                 \u001b[0mplt\u001b[0m\u001b[0;34m.\u001b[0m\u001b[0mswitch_backend\u001b[0m\u001b[0;34m(\u001b[0m\u001b[0mname\u001b[0m\u001b[0;34m)\u001b[0m\u001b[0;34m\u001b[0m\u001b[0;34m\u001b[0m\u001b[0m\n\u001b[0m\u001b[1;32m   1234\u001b[0m             \u001b[0;32mexcept\u001b[0m \u001b[0mImportError\u001b[0m\u001b[0;34m:\u001b[0m\u001b[0;34m\u001b[0m\u001b[0;34m\u001b[0m\u001b[0m\n\u001b[1;32m   1235\u001b[0m                 \u001b[0;32mif\u001b[0m \u001b[0mforce\u001b[0m\u001b[0;34m:\u001b[0m\u001b[0;34m\u001b[0m\u001b[0;34m\u001b[0m\u001b[0m\n",
            "\u001b[0;32m/usr/local/lib/python3.10/dist-packages/matplotlib/pyplot.py\u001b[0m in \u001b[0;36mswitch_backend\u001b[0;34m(newbackend)\u001b[0m\n\u001b[1;32m    277\u001b[0m         if (current_framework and required_framework\n\u001b[1;32m    278\u001b[0m                 and current_framework != required_framework):\n\u001b[0;32m--> 279\u001b[0;31m             raise ImportError(\n\u001b[0m\u001b[1;32m    280\u001b[0m                 \u001b[0;34m\"Cannot load backend {!r} which requires the {!r} interactive \"\u001b[0m\u001b[0;34m\u001b[0m\u001b[0;34m\u001b[0m\u001b[0m\n\u001b[1;32m    281\u001b[0m                 \"framework, as {!r} is currently running\".format(\n",
            "\u001b[0;31mImportError\u001b[0m: Cannot load backend 'TkAgg' which requires the 'tk' interactive framework, as 'headless' is currently running",
            "",
            "\u001b[0;31m---------------------------------------------------------------------------\u001b[0;32m\nNOTE: If your import is failing due to a missing package, you can\nmanually install dependencies using either !pip or !apt.\n\nTo view examples of installing some common dependencies, click the\n\"Open Examples\" button below.\n\u001b[0;31m---------------------------------------------------------------------------\u001b[0m\n"
          ],
          "errorDetails": {
            "actions": [
              {
                "action": "open_url",
                "actionText": "Open Examples",
                "url": "/notebooks/snippets/importing_libraries.ipynb"
              }
            ]
          }
        }
      ]
    }
  ]
}